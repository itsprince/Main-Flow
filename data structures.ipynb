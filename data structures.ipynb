{
 "cells": [
  {
   "cell_type": "code",
   "execution_count": 14,
   "id": "91151051-fd9e-4223-b315-da3fc4d6d7da",
   "metadata": {},
   "outputs": [
    {
     "name": "stdout",
     "output_type": "stream",
     "text": [
      "2\n",
      "3.14\n",
      "data\n",
      "True\n",
      "2\n",
      "array('i', [3, 4, 7])\n",
      "array('d', [3.1, 2.5, 7.8])\n",
      "[1, 'item', 2000]\n",
      "(1, 'item', 2000)\n",
      "(1, 2, 5, 7, 3)\n",
      "{1.1234, 5.45663, 9.3274, 7.32434}\n",
      "{'Key1-name': 10, 'Key2-name': 20}\n"
     ]
    }
   ],
   "source": [
    "# PRIMITIVE DATA TYPES\n",
    "\n",
    "# Literal Objects\n",
    "x = 2 # integer\n",
    "y = 3.14 # float\n",
    "z = \"data\" # string\n",
    "flag = True # Boolean\n",
    "# Non-Literal Objects\n",
    "x2 = str(x) # string from integer\n",
    "# =====================\n",
    "# DERIVED DATA TYPES\n",
    "# Arrays\n",
    "import array as arr\n",
    "# Array with signed integer 'i' type\n",
    "a1 = arr.array(\"i\", [3, 4, 7])\n",
    "# Array with double/float 'd'/'f' type\n",
    "a2 = arr.array(\"d\", [3.1, 2.5, 7.8])\n",
    "# List (mutable non-homogeneous)\n",
    "L1 = [1, \"item\", 2000]\n",
    "# Tuple (immutable non-homogeneous)\n",
    "T1 = (1, \"item\", 2000)\n",
    "T2 = (1, 2, 5, 7, 3)\n",
    "# Set (unique)\n",
    "S1 = {1.1234, 5.45663, 7.32434, 9.3274, 7.32434} \n",
    "# Dictionary (key value pairs)\n",
    "D1 = {\"Key1-name\": 10, \"Key2-name\": 20}\n",
    "print(x)\n",
    "print(y)\n",
    "print(z)\n",
    "print(flag)\n",
    "print(x2)\n",
    "print(a1)\n",
    "print(a2)\n",
    "print(L1)\n",
    "print(T1)\n",
    "print(T2)\n",
    "print(S1)\n",
    "print(D1)"
   ]
  },
  {
   "cell_type": "code",
   "execution_count": 11,
   "id": "a843d609-2a6e-4d05-b3b5-ea46be53d0bd",
   "metadata": {},
   "outputs": [
    {
     "name": "stdout",
     "output_type": "stream",
     "text": [
      "========================================\n",
      "a = 29, b = 10\n",
      "========================================\n",
      "Add : 29+10 = 39\n",
      "Substract : 29-10 = 19\n",
      "Multiply : 29*10 = 290\n",
      "Division : 29/10 = 2.9\n",
      "============================================================\n",
      "Power : 29**10= 420707233300201\n",
      "Remainder : 29%10 = 9\n",
      "Integer quitient value (With Floor function) : 29//10 = 2\n",
      "============================================================\n"
     ]
    }
   ],
   "source": [
    "'''\n",
    "Sample program to see \n",
    "Arithmetic Operators in Python\n",
    "'''\n",
    "a, b = 29, 10\n",
    "print(20*\"==\")\n",
    "print(f\"a = {a}, b = {b}\")\n",
    "print(20*\"==\")\n",
    "print(f\"Add : {a}+{b} = {a+b}\")\n",
    "print(f\"Substract : {a}-{b} = {a-b}\")\n",
    "print(f\"Multiply : {a}*{b} = {a*b}\")\n",
    "print(f\"Division : {a}/{b} = {a/b}\")\n",
    "print(30*\"==\")\n",
    "print(f\"Power : {a}**{b}= {a**b}\")\n",
    "print(f\"Remainder : {a}%{b} = {a%b}\")\n",
    "print(f\"Integer quitient value (With Floor function) : {a}//{b} = {a//b}\")\n",
    "print(30*\"==\")"
   ]
  },
  {
   "cell_type": "code",
   "execution_count": null,
   "id": "e4522e3d-5ec3-48f0-90e2-77b066c5be25",
   "metadata": {},
   "outputs": [],
   "source": []
  }
 ],
 "metadata": {
  "kernelspec": {
   "display_name": "Python 3 (ipykernel)",
   "language": "python",
   "name": "python3"
  },
  "language_info": {
   "codemirror_mode": {
    "name": "ipython",
    "version": 3
   },
   "file_extension": ".py",
   "mimetype": "text/x-python",
   "name": "python",
   "nbconvert_exporter": "python",
   "pygments_lexer": "ipython3",
   "version": "3.11.5"
  }
 },
 "nbformat": 4,
 "nbformat_minor": 5
}
