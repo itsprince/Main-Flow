{
 "cells": [
  {
   "cell_type": "code",
   "execution_count": 7,
   "id": "91151051-fd9e-4223-b315-da3fc4d6d7da",
   "metadata": {},
   "outputs": [
    {
     "name": "stdout",
     "output_type": "stream",
     "text": [
      "After appending an element, list is:  [10, 20, 30, 40, 50, 6]\n",
      "After inserting an element to the specific position, list is:  [10, 20, 2.5, 30, 40, 50, 6]\n",
      "After removing an element from the list, the list is:  [10, 20, 2.5, 30, 40, 6]\n",
      "After using pop function,list is:  [10, 20, 2.5, 30, 40]\n",
      "After sorting the elements,the list is:  [2.5, 10, 20, 30, 40]\n"
     ]
    }
   ],
   "source": [
    "# Creating a list\n",
    "my_list = [10, 20, 30, 40, 50]\n",
    "\n",
    "# List methods\n",
    "# Adds an element at the end of the list\n",
    "my_list.append(6)       \n",
    "print(\"After appending an element, list is: \",my_list)\n",
    "# Inserts an element at the specified position\n",
    "my_list.insert(2, 2.5)  \n",
    "print(\"After inserting an element to the specific position, list is: \",my_list)\n",
    "# Removes the first item with the specified value\n",
    "my_list.remove(50)     \n",
    "print(\"After removing an element from the list, the list is: \",my_list)\n",
    "# Removes the last item\n",
    "my_list.pop()          \n",
    "print(\"After using pop function,list is: \",my_list) \n",
    "# Sorts the list\n",
    "my_list.sort()  \n",
    "print(\"After sorting the elements,the list is: \",my_list)"
   ]
  },
  {
   "cell_type": "code",
   "execution_count": 6,
   "id": "a843d609-2a6e-4d05-b3b5-ea46be53d0bd",
   "metadata": {},
   "outputs": [
    {
     "name": "stdout",
     "output_type": "stream",
     "text": [
      "The number of times  3  repeated is  0\n",
      "the index of 1 in the tuple is  3\n"
     ]
    }
   ],
   "source": [
    "# TUPLES\n",
    "\n",
    "# Creating a tuple\n",
    "my_tuple = (98,6,1,7,8,10)\n",
    "\n",
    "# Tuple methods\n",
    "# Returns the number of times a specified value occurs in a tuple\n",
    "num=3\n",
    "cnt = my_tuple.count(num)\n",
    "print(\"The number of times \",num,\" repeated is \",cnt)\n",
    "# Searches the tuple for a specified value and returns the position of where it was found\n",
    "index = my_tuple.index(1)      \n",
    "print(\"the index of 1 in the tuple is \",index+1)\n"
   ]
  },
  {
   "cell_type": "code",
   "execution_count": 10,
   "id": "e4522e3d-5ec3-48f0-90e2-77b066c5be25",
   "metadata": {},
   "outputs": [
    {
     "name": "stdout",
     "output_type": "stream",
     "text": [
      "Adding an element, the set is:  {40, 10, 50, 20, 60, 30}\n",
      "After remvoing an element, the set is:  {10, 50, 20, 60, 30}\n",
      "After removing random element, the set is:  {50, 20, 60, 30}\n",
      "After union of two sets, the final set is:  {50, 20, 60, 30}\n",
      "After intersection of two sets, the final set is:  {50, 20, 60, 30}\n",
      "After difference of two sets, the final set is:  {50, 20, 60, 30}\n"
     ]
    }
   ],
   "source": [
    "# SET\n",
    "\n",
    "\n",
    "# Creating a set\n",
    "my_set = {10, 20, 30, 40, 50}\n",
    "\n",
    "# Set methods\n",
    "# Adds an element to the set\n",
    "my_set.add(60)\n",
    "print(\"Adding an element, the set is: \",my_set)\n",
    "# Removes the specified element\n",
    "my_set.remove(40)        \n",
    "print(\"After remvoing an element, the set is: \",my_set)\n",
    "# Removes a random element from the set\n",
    "my_set.pop()            \n",
    "print(\"After removing random element, the set is: \",my_set)\n",
    "my_set.union({9, 10})  \n",
    "print(\"After union of two sets, the final set is: \",my_set)\n",
    "my_set.intersection({3, 6}) \n",
    "print(\"After intersection of two sets, the final set is: \",my_set)\n",
    "my_set.difference({1, 2})  \n",
    "print(\"After difference of two sets, the final set is: \",my_set) \n"
   ]
  },
  {
   "cell_type": "code",
   "execution_count": 14,
   "id": "6d721cd3",
   "metadata": {},
   "outputs": [
    {
     "name": "stdout",
     "output_type": "stream",
     "text": [
      "The value of item a 1\n",
      "The keys of the dictionary are:  dict_keys(['a', 'b', 'c'])\n",
      "The values of the dictionary are:  dict_values([1, 2, 3])\n",
      "The keys and their corresponding values of the dictionary are:  dict_items([('a', 1), ('b', 2), ('c', 3)])\n",
      "After updating the dictionary:  {'a': 1, 'b': 2, 'c': 3, 'd': 4}\n",
      "After popping an item from the dictionary:  1\n",
      "After clearing the dictionary:  {}\n"
     ]
    }
   ],
   "source": [
    "# DICTIONARY\n",
    "\n",
    "# Creating a dictionary\n",
    "my_dict = {'a': 1, 'b': 2, 'c': 3}\n",
    "\n",
    "# Dictionary methods\n",
    "val = my_dict.get('a')\n",
    "print(\"The value of item a\",val)\n",
    "key = my_dict.keys()          \n",
    "print(\"The keys of the dictionary are: \",key)\n",
    "values = my_dict.values()        \n",
    "print(\"The values of the dictionary are: \",values)\n",
    "keyval = my_dict.items() \n",
    "print(\"The keys and their corresponding values of the dictionary are: \",keyval)        \n",
    "my_dict.update({'d': 4})\n",
    "print(\"After updating the dictionary: \",my_dict)\n",
    "popp = my_dict.pop('a')        \n",
    "print(\"After popping an item from the dictionary: \",popp)\n",
    "my_dict.clear()         \n",
    "print(\"After clearing the dictionary: \",my_dict)"
   ]
  },
  {
   "cell_type": "code",
   "execution_count": 23,
   "id": "1d482fd8",
   "metadata": {},
   "outputs": [
    {
     "name": "stdout",
     "output_type": "stream",
     "text": [
      "Converts the string into lower case:  jack-and-jill-went-up-the-hill                  \n",
      "Converts the string into upper case:  JACK-AND-JILL-WENT-UP-THE-HILL                  \n",
      "After removing the trailing whietsapces:  JACK-AND-JILL-WENT-UP-THE-hill\n",
      "Replaces L with A, the string would be: JACK-AND-JIAA-WENT-UP-THE-hill                  \n",
      "Ater splitting the string into list:  ['JACK', 'AND', 'JILL', 'WENT', 'UP', 'THE', 'hill']\n",
      "After joining the list:  JACK AND JILL WENT UP THE hill\n",
      "The first occurence of the letter UP is at the index:  19\n",
      "The length of the string is:  30\n"
     ]
    }
   ],
   "source": [
    "# STRING\n",
    "\n",
    "# Creating a string\n",
    "my_string = \"JACK-AND-JILL-WENT-UP-THE-hill                  \"\n",
    "\n",
    "\n",
    "# Common string methods\n",
    "lstr = my_string.lower()         \n",
    "print(\"Converts the string into lower case: \",lstr)\n",
    "ustr = my_string.upper()         \n",
    "print(\"Converts the string into upper case: \",ustr)\n",
    "strstr = my_string.strip()       \n",
    "print(\"After removing the trailing whietsapces: \",strstr)\n",
    "repstr = my_string.replace('L', 'A')  \n",
    "print(\"Replaces L with A, the string would be:\",repstr)\n",
    "my_string = \"JACK-AND-JILL-WENT-UP-THE-hill\"\n",
    "lsstr = my_string.split('-')     \n",
    "print(\"Ater splitting the string into list: \",lsstr)\n",
    "strls = \" \".join(lsstr)  \n",
    "print(\"After joining the list: \",strls)\n",
    "ind = my_string.index('UP')  \n",
    "print(\"The first occurence of the letter UP is at the index: \",ind)\n",
    "length = len(my_string)\n",
    "print(\"The length of the string is: \",length)\n",
    "   "
   ]
  }
 ],
 "metadata": {
  "kernelspec": {
   "display_name": "Python 3 (ipykernel)",
   "language": "python",
   "name": "python3"
  },
  "language_info": {
   "codemirror_mode": {
    "name": "ipython",
    "version": 3
   },
   "file_extension": ".py",
   "mimetype": "text/x-python",
   "name": "python",
   "nbconvert_exporter": "python",
   "pygments_lexer": "ipython3",
   "version": "3.8.10"
  }
 },
 "nbformat": 4,
 "nbformat_minor": 5
}
